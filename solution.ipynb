{
 "cells": [
  {
   "cell_type": "markdown",
   "metadata": {},
   "source": [
    "## Question 1 Cleanup"
   ]
  },
  {
   "cell_type": "code",
   "execution_count": 1,
   "metadata": {},
   "outputs": [],
   "source": [
    "# import packages\n",
    "import os\n",
    "import numpy as np\n",
    "import pandas as pd\n",
    "import warnings\n",
    "warnings.filterwarnings('ignore')"
   ]
  },
  {
   "cell_type": "code",
   "execution_count": 2,
   "metadata": {},
   "outputs": [
    {
     "data": {
      "text/html": [
       "<div>\n",
       "<style scoped>\n",
       "    .dataframe tbody tr th:only-of-type {\n",
       "        vertical-align: middle;\n",
       "    }\n",
       "\n",
       "    .dataframe tbody tr th {\n",
       "        vertical-align: top;\n",
       "    }\n",
       "\n",
       "    .dataframe thead th {\n",
       "        text-align: right;\n",
       "    }\n",
       "</style>\n",
       "<table border=\"1\" class=\"dataframe\">\n",
       "  <thead>\n",
       "    <tr style=\"text-align: right;\">\n",
       "      <th></th>\n",
       "      <th>_ID</th>\n",
       "      <th>TimeSt</th>\n",
       "      <th>Country</th>\n",
       "      <th>Province</th>\n",
       "      <th>City</th>\n",
       "      <th>Latitude</th>\n",
       "      <th>Longitude</th>\n",
       "    </tr>\n",
       "  </thead>\n",
       "  <tbody>\n",
       "    <tr>\n",
       "      <th>0</th>\n",
       "      <td>4516516</td>\n",
       "      <td>2017-06-21 00:00:00.143</td>\n",
       "      <td>CA</td>\n",
       "      <td>ON</td>\n",
       "      <td>Waterloo</td>\n",
       "      <td>43.49347</td>\n",
       "      <td>-80.49123</td>\n",
       "    </tr>\n",
       "    <tr>\n",
       "      <th>1</th>\n",
       "      <td>4516547</td>\n",
       "      <td>2017-06-21 18:00:00.193</td>\n",
       "      <td>CA</td>\n",
       "      <td>ON</td>\n",
       "      <td>London</td>\n",
       "      <td>42.93990</td>\n",
       "      <td>-81.27090</td>\n",
       "    </tr>\n",
       "    <tr>\n",
       "      <th>2</th>\n",
       "      <td>4516550</td>\n",
       "      <td>2017-06-21 15:00:00.287</td>\n",
       "      <td>CA</td>\n",
       "      <td>ON</td>\n",
       "      <td>Guelph</td>\n",
       "      <td>43.57760</td>\n",
       "      <td>-80.22010</td>\n",
       "    </tr>\n",
       "    <tr>\n",
       "      <th>3</th>\n",
       "      <td>4516600</td>\n",
       "      <td>2017-06-21 15:00:00.307</td>\n",
       "      <td>CA</td>\n",
       "      <td>ON</td>\n",
       "      <td>Stratford</td>\n",
       "      <td>43.37160</td>\n",
       "      <td>-80.97730</td>\n",
       "    </tr>\n",
       "    <tr>\n",
       "      <th>4</th>\n",
       "      <td>4516613</td>\n",
       "      <td>2017-06-21 15:00:00.497</td>\n",
       "      <td>CA</td>\n",
       "      <td>ON</td>\n",
       "      <td>Stratford</td>\n",
       "      <td>43.37160</td>\n",
       "      <td>-80.97730</td>\n",
       "    </tr>\n",
       "  </tbody>\n",
       "</table>\n",
       "</div>"
      ],
      "text/plain": [
       "       _ID                   TimeSt Country Province       City  Latitude  \\\n",
       "0  4516516  2017-06-21 00:00:00.143      CA       ON   Waterloo  43.49347   \n",
       "1  4516547  2017-06-21 18:00:00.193      CA       ON     London  42.93990   \n",
       "2  4516550  2017-06-21 15:00:00.287      CA       ON     Guelph  43.57760   \n",
       "3  4516600  2017-06-21 15:00:00.307      CA       ON  Stratford  43.37160   \n",
       "4  4516613  2017-06-21 15:00:00.497      CA       ON  Stratford  43.37160   \n",
       "\n",
       "   Longitude  \n",
       "0  -80.49123  \n",
       "1  -81.27090  \n",
       "2  -80.22010  \n",
       "3  -80.97730  \n",
       "4  -80.97730  "
      ]
     },
     "execution_count": 2,
     "metadata": {},
     "output_type": "execute_result"
    }
   ],
   "source": [
    "# import dataset\n",
    "url = 'https://raw.githubusercontent.com/EQWorks/ws-data-pandas/main/data/DataSample.csv'\n",
    "df = pd.read_csv(url)\n",
    "df.head() #22025x7"
   ]
  },
  {
   "cell_type": "code",
   "execution_count": 3,
   "metadata": {},
   "outputs": [],
   "source": [
    "# remove extra space for TimeSt column name\n",
    "#df.dtypes\n",
    "df.columns = df.columns.str.replace(' ', '')"
   ]
  },
  {
   "cell_type": "code",
   "execution_count": 4,
   "metadata": {},
   "outputs": [],
   "source": [
    "# filter out questionable request records\n",
    "df = df.drop_duplicates(subset = [\"TimeSt\", \"Latitude\", \"Longitude\"]) #dropped 2026 duplicated rows"
   ]
  },
  {
   "cell_type": "markdown",
   "metadata": {},
   "source": [
    "## Question 2 Label"
   ]
  },
  {
   "cell_type": "code",
   "execution_count": 5,
   "metadata": {},
   "outputs": [
    {
     "data": {
      "text/html": [
       "<div>\n",
       "<style scoped>\n",
       "    .dataframe tbody tr th:only-of-type {\n",
       "        vertical-align: middle;\n",
       "    }\n",
       "\n",
       "    .dataframe tbody tr th {\n",
       "        vertical-align: top;\n",
       "    }\n",
       "\n",
       "    .dataframe thead th {\n",
       "        text-align: right;\n",
       "    }\n",
       "</style>\n",
       "<table border=\"1\" class=\"dataframe\">\n",
       "  <thead>\n",
       "    <tr style=\"text-align: right;\">\n",
       "      <th></th>\n",
       "      <th>POIID</th>\n",
       "      <th>Latitude</th>\n",
       "      <th>Longitude</th>\n",
       "    </tr>\n",
       "  </thead>\n",
       "  <tbody>\n",
       "    <tr>\n",
       "      <th>0</th>\n",
       "      <td>POI1</td>\n",
       "      <td>53.546167</td>\n",
       "      <td>-113.485734</td>\n",
       "    </tr>\n",
       "    <tr>\n",
       "      <th>1</th>\n",
       "      <td>POI2</td>\n",
       "      <td>53.546167</td>\n",
       "      <td>-113.485734</td>\n",
       "    </tr>\n",
       "    <tr>\n",
       "      <th>2</th>\n",
       "      <td>POI3</td>\n",
       "      <td>45.521629</td>\n",
       "      <td>-73.566024</td>\n",
       "    </tr>\n",
       "    <tr>\n",
       "      <th>3</th>\n",
       "      <td>POI4</td>\n",
       "      <td>45.224830</td>\n",
       "      <td>-63.232729</td>\n",
       "    </tr>\n",
       "  </tbody>\n",
       "</table>\n",
       "</div>"
      ],
      "text/plain": [
       "  POIID   Latitude   Longitude\n",
       "0  POI1  53.546167 -113.485734\n",
       "1  POI2  53.546167 -113.485734\n",
       "2  POI3  45.521629  -73.566024\n",
       "3  POI4  45.224830  -63.232729"
      ]
     },
     "execution_count": 5,
     "metadata": {},
     "output_type": "execute_result"
    }
   ],
   "source": [
    "# Import POI dataset\n",
    "url2 = 'https://raw.githubusercontent.com/EQWorks/ws-data-pandas/main/data/POIList.csv'\n",
    "df_poi = pd.read_csv(url2)\n",
    "\n",
    "# remove extra whitespace in colnames\n",
    "df_poi.columns = df_poi.columns.str.replace(' ', '')\n",
    "\n",
    "df_poi"
   ]
  },
  {
   "cell_type": "code",
   "execution_count": 6,
   "metadata": {},
   "outputs": [],
   "source": [
    "# rename column names\n",
    "df = df.rename(columns = {'Latitude':'lat','Longitude':'lon'})\n",
    "df_poi=df_poi.rename(columns = {'Latitude':'lat','Longitude':'lon'})"
   ]
  },
  {
   "cell_type": "markdown",
   "metadata": {},
   "source": [
    "#### Use Haversine Equation to calculate distance and assign labels."
   ]
  },
  {
   "cell_type": "code",
   "execution_count": 7,
   "metadata": {},
   "outputs": [],
   "source": [
    "from math import radians, cos, sin, asin, sqrt\n",
    "\n",
    "# function calculates distance to POIs\n",
    "def dist(lat1, long1, lat2, long2): \n",
    "    \"\"\"\n",
    "    Calculate distance between two points using Haversine Equation. \n",
    "    \"\"\"\n",
    "    # convert decimal degrees to radians\n",
    "    lat1, long1, lat2, long2 = map(radians, [lat1, long1, lat2, long2])\n",
    "    \n",
    "    # compute haversine formula\n",
    "    dlon = long2 - long1\n",
    "    dlat = lat2 - lat1\n",
    "    a = sin(dlat/2)**2 + cos(lat1)*cos(lat2)*sin(dlon/2)**2\n",
    "    c = 2*asin(sqrt(a))\n",
    "    km = 6371*c  #radius of earth is 6371km\n",
    "    \n",
    "    return km\n",
    "\n",
    "# function find the minimum distanced POIID\n",
    "def find_nearest(lat, long): \n",
    "    \n",
    "    distances = df_poi.apply(lambda row: dist(lat, long, row['lat'], row['lon']), axis = 1)\n",
    "    \n",
    "    return df_poi.loc[distances.idxmin(), 'POIID']"
   ]
  },
  {
   "cell_type": "code",
   "execution_count": 8,
   "metadata": {},
   "outputs": [
    {
     "data": {
      "text/html": [
       "<div>\n",
       "<style scoped>\n",
       "    .dataframe tbody tr th:only-of-type {\n",
       "        vertical-align: middle;\n",
       "    }\n",
       "\n",
       "    .dataframe tbody tr th {\n",
       "        vertical-align: top;\n",
       "    }\n",
       "\n",
       "    .dataframe thead th {\n",
       "        text-align: right;\n",
       "    }\n",
       "</style>\n",
       "<table border=\"1\" class=\"dataframe\">\n",
       "  <thead>\n",
       "    <tr style=\"text-align: right;\">\n",
       "      <th></th>\n",
       "      <th>_ID</th>\n",
       "      <th>TimeSt</th>\n",
       "      <th>Country</th>\n",
       "      <th>Province</th>\n",
       "      <th>City</th>\n",
       "      <th>lat</th>\n",
       "      <th>lon</th>\n",
       "      <th>POIID</th>\n",
       "    </tr>\n",
       "  </thead>\n",
       "  <tbody>\n",
       "    <tr>\n",
       "      <th>0</th>\n",
       "      <td>4516516</td>\n",
       "      <td>2017-06-21 00:00:00.143</td>\n",
       "      <td>CA</td>\n",
       "      <td>ON</td>\n",
       "      <td>Waterloo</td>\n",
       "      <td>43.49347</td>\n",
       "      <td>-80.49123</td>\n",
       "      <td>POI3</td>\n",
       "    </tr>\n",
       "    <tr>\n",
       "      <th>1</th>\n",
       "      <td>4516547</td>\n",
       "      <td>2017-06-21 18:00:00.193</td>\n",
       "      <td>CA</td>\n",
       "      <td>ON</td>\n",
       "      <td>London</td>\n",
       "      <td>42.93990</td>\n",
       "      <td>-81.27090</td>\n",
       "      <td>POI3</td>\n",
       "    </tr>\n",
       "    <tr>\n",
       "      <th>2</th>\n",
       "      <td>4516550</td>\n",
       "      <td>2017-06-21 15:00:00.287</td>\n",
       "      <td>CA</td>\n",
       "      <td>ON</td>\n",
       "      <td>Guelph</td>\n",
       "      <td>43.57760</td>\n",
       "      <td>-80.22010</td>\n",
       "      <td>POI3</td>\n",
       "    </tr>\n",
       "    <tr>\n",
       "      <th>3</th>\n",
       "      <td>4516600</td>\n",
       "      <td>2017-06-21 15:00:00.307</td>\n",
       "      <td>CA</td>\n",
       "      <td>ON</td>\n",
       "      <td>Stratford</td>\n",
       "      <td>43.37160</td>\n",
       "      <td>-80.97730</td>\n",
       "      <td>POI3</td>\n",
       "    </tr>\n",
       "    <tr>\n",
       "      <th>4</th>\n",
       "      <td>4516613</td>\n",
       "      <td>2017-06-21 15:00:00.497</td>\n",
       "      <td>CA</td>\n",
       "      <td>ON</td>\n",
       "      <td>Stratford</td>\n",
       "      <td>43.37160</td>\n",
       "      <td>-80.97730</td>\n",
       "      <td>POI3</td>\n",
       "    </tr>\n",
       "    <tr>\n",
       "      <th>...</th>\n",
       "      <td>...</td>\n",
       "      <td>...</td>\n",
       "      <td>...</td>\n",
       "      <td>...</td>\n",
       "      <td>...</td>\n",
       "      <td>...</td>\n",
       "      <td>...</td>\n",
       "      <td>...</td>\n",
       "    </tr>\n",
       "    <tr>\n",
       "      <th>22019</th>\n",
       "      <td>5614760</td>\n",
       "      <td>2017-06-21 08:23:01.793</td>\n",
       "      <td>CA</td>\n",
       "      <td>AB</td>\n",
       "      <td>Calgary</td>\n",
       "      <td>51.02093</td>\n",
       "      <td>-114.10621</td>\n",
       "      <td>POI1</td>\n",
       "    </tr>\n",
       "    <tr>\n",
       "      <th>22020</th>\n",
       "      <td>5614801</td>\n",
       "      <td>2017-06-21 12:23:07.880</td>\n",
       "      <td>CA</td>\n",
       "      <td>ON</td>\n",
       "      <td>Saint Catharines</td>\n",
       "      <td>43.16440</td>\n",
       "      <td>-79.24560</td>\n",
       "      <td>POI3</td>\n",
       "    </tr>\n",
       "    <tr>\n",
       "      <th>22022</th>\n",
       "      <td>5614909</td>\n",
       "      <td>2017-06-21 00:23:07.903</td>\n",
       "      <td>CA</td>\n",
       "      <td>ON</td>\n",
       "      <td>Whitby</td>\n",
       "      <td>43.88730</td>\n",
       "      <td>-78.94220</td>\n",
       "      <td>POI3</td>\n",
       "    </tr>\n",
       "    <tr>\n",
       "      <th>22023</th>\n",
       "      <td>5614912</td>\n",
       "      <td>2017-06-21 11:23:07.953</td>\n",
       "      <td>CA</td>\n",
       "      <td>ON</td>\n",
       "      <td>Oakville</td>\n",
       "      <td>43.49340</td>\n",
       "      <td>-79.71260</td>\n",
       "      <td>POI3</td>\n",
       "    </tr>\n",
       "    <tr>\n",
       "      <th>22024</th>\n",
       "      <td>5615006</td>\n",
       "      <td>2017-06-21 17:23:08.033</td>\n",
       "      <td>CA</td>\n",
       "      <td>ON</td>\n",
       "      <td>Oakville</td>\n",
       "      <td>43.43090</td>\n",
       "      <td>-79.77670</td>\n",
       "      <td>POI3</td>\n",
       "    </tr>\n",
       "  </tbody>\n",
       "</table>\n",
       "<p>19999 rows × 8 columns</p>\n",
       "</div>"
      ],
      "text/plain": [
       "           _ID                   TimeSt Country Province              City  \\\n",
       "0      4516516  2017-06-21 00:00:00.143      CA       ON          Waterloo   \n",
       "1      4516547  2017-06-21 18:00:00.193      CA       ON            London   \n",
       "2      4516550  2017-06-21 15:00:00.287      CA       ON            Guelph   \n",
       "3      4516600  2017-06-21 15:00:00.307      CA       ON         Stratford   \n",
       "4      4516613  2017-06-21 15:00:00.497      CA       ON         Stratford   \n",
       "...        ...                      ...     ...      ...               ...   \n",
       "22019  5614760  2017-06-21 08:23:01.793      CA       AB           Calgary   \n",
       "22020  5614801  2017-06-21 12:23:07.880      CA       ON  Saint Catharines   \n",
       "22022  5614909  2017-06-21 00:23:07.903      CA       ON            Whitby   \n",
       "22023  5614912  2017-06-21 11:23:07.953      CA       ON          Oakville   \n",
       "22024  5615006  2017-06-21 17:23:08.033      CA       ON          Oakville   \n",
       "\n",
       "            lat        lon POIID  \n",
       "0      43.49347  -80.49123  POI3  \n",
       "1      42.93990  -81.27090  POI3  \n",
       "2      43.57760  -80.22010  POI3  \n",
       "3      43.37160  -80.97730  POI3  \n",
       "4      43.37160  -80.97730  POI3  \n",
       "...         ...        ...   ...  \n",
       "22019  51.02093 -114.10621  POI1  \n",
       "22020  43.16440  -79.24560  POI3  \n",
       "22022  43.88730  -78.94220  POI3  \n",
       "22023  43.49340  -79.71260  POI3  \n",
       "22024  43.43090  -79.77670  POI3  \n",
       "\n",
       "[19999 rows x 8 columns]"
      ]
     },
     "execution_count": 8,
     "metadata": {},
     "output_type": "execute_result"
    }
   ],
   "source": [
    "# append closest POIID to data\n",
    "df['POIID'] = df.apply(\n",
    "    lambda row: find_nearest(row['lat'], row['lon']), \n",
    "    axis=1)\n",
    "df"
   ]
  },
  {
   "cell_type": "markdown",
   "metadata": {},
   "source": [
    "## Question 3 Analysis"
   ]
  },
  {
   "cell_type": "markdown",
   "metadata": {},
   "source": [
    "### 1. Average and Standard Deviation of Distance"
   ]
  },
  {
   "cell_type": "code",
   "execution_count": 9,
   "metadata": {},
   "outputs": [],
   "source": [
    "# append lat and lon info to data\n",
    "df = pd.merge(df, df_poi[['POIID', 'lat', 'lon']], on = 'POIID', how = 'left')\n",
    "\n",
    "# calculate distance between closest POI and each entry in data\n",
    "df['distance'] = [dist(df.lon_x[i], df.lat_x[i], \n",
    "                       df.lon_y[i], df.lat_y[i]) \n",
    "                  for i in range(len(df))]\n",
    "df['distance'] = df['distance'].round(decimals = 3)"
   ]
  },
  {
   "cell_type": "code",
   "execution_count": 10,
   "metadata": {},
   "outputs": [
    {
     "data": {
      "text/html": [
       "<div>\n",
       "<style scoped>\n",
       "    .dataframe tbody tr th:only-of-type {\n",
       "        vertical-align: middle;\n",
       "    }\n",
       "\n",
       "    .dataframe tbody tr th {\n",
       "        vertical-align: top;\n",
       "    }\n",
       "\n",
       "    .dataframe thead th {\n",
       "        text-align: right;\n",
       "    }\n",
       "</style>\n",
       "<table border=\"1\" class=\"dataframe\">\n",
       "  <thead>\n",
       "    <tr style=\"text-align: right;\">\n",
       "      <th></th>\n",
       "      <th>mean</th>\n",
       "      <th>std</th>\n",
       "    </tr>\n",
       "    <tr>\n",
       "      <th>POIID</th>\n",
       "      <th></th>\n",
       "      <th></th>\n",
       "    </tr>\n",
       "  </thead>\n",
       "  <tbody>\n",
       "    <tr>\n",
       "      <th>POI1</th>\n",
       "      <td>301.579842</td>\n",
       "      <td>578.585578</td>\n",
       "    </tr>\n",
       "    <tr>\n",
       "      <th>POI3</th>\n",
       "      <td>587.163258</td>\n",
       "      <td>299.748073</td>\n",
       "    </tr>\n",
       "    <tr>\n",
       "      <th>POI4</th>\n",
       "      <td>664.043059</td>\n",
       "      <td>2072.764987</td>\n",
       "    </tr>\n",
       "  </tbody>\n",
       "</table>\n",
       "</div>"
      ],
      "text/plain": [
       "             mean          std\n",
       "POIID                         \n",
       "POI1   301.579842   578.585578\n",
       "POI3   587.163258   299.748073\n",
       "POI4   664.043059  2072.764987"
      ]
     },
     "execution_count": 10,
     "metadata": {},
     "output_type": "execute_result"
    }
   ],
   "source": [
    "# calculate conditional mean and sd\n",
    "stats = df[['POIID','distance']].groupby('POIID').mean()\n",
    "stats['std'] = df[['POIID','distance']].groupby('POIID').std()['distance']\n",
    "stats = stats.rename(columns = {'distance':'mean'})\n",
    "stats"
   ]
  },
  {
   "cell_type": "markdown",
   "metadata": {},
   "source": [
    "We know from glancing at df_poi dataset (or by running duplicated() function) that POI1 and POI2 share the same latitude and longitude (location). In this specific case, we understand that POI would have the same mean and standard deviation as POI1."
   ]
  },
  {
   "cell_type": "markdown",
   "metadata": {},
   "source": [
    "However, if the data is of larger size, we could potentially create a new data frame to keep track of duplicated rows (like below)."
   ]
  },
  {
   "cell_type": "code",
   "execution_count": 11,
   "metadata": {},
   "outputs": [
    {
     "data": {
      "text/html": [
       "<div>\n",
       "<style scoped>\n",
       "    .dataframe tbody tr th:only-of-type {\n",
       "        vertical-align: middle;\n",
       "    }\n",
       "\n",
       "    .dataframe tbody tr th {\n",
       "        vertical-align: top;\n",
       "    }\n",
       "\n",
       "    .dataframe thead th {\n",
       "        text-align: right;\n",
       "    }\n",
       "</style>\n",
       "<table border=\"1\" class=\"dataframe\">\n",
       "  <thead>\n",
       "    <tr style=\"text-align: right;\">\n",
       "      <th></th>\n",
       "      <th>POIID</th>\n",
       "      <th>lat</th>\n",
       "      <th>lon</th>\n",
       "    </tr>\n",
       "  </thead>\n",
       "  <tbody>\n",
       "    <tr>\n",
       "      <th>0</th>\n",
       "      <td>POI1</td>\n",
       "      <td>53.546167</td>\n",
       "      <td>-113.485734</td>\n",
       "    </tr>\n",
       "    <tr>\n",
       "      <th>1</th>\n",
       "      <td>POI2</td>\n",
       "      <td>53.546167</td>\n",
       "      <td>-113.485734</td>\n",
       "    </tr>\n",
       "  </tbody>\n",
       "</table>\n",
       "</div>"
      ],
      "text/plain": [
       "  POIID        lat         lon\n",
       "0  POI1  53.546167 -113.485734\n",
       "1  POI2  53.546167 -113.485734"
      ]
     },
     "execution_count": 11,
     "metadata": {},
     "output_type": "execute_result"
    }
   ],
   "source": [
    "dup_df = df_poi[df_poi.duplicated(subset=['lat', 'lon'], keep=False)]\n",
    "dup_df"
   ]
  },
  {
   "cell_type": "markdown",
   "metadata": {},
   "source": [
    "**For this work sample solution, we will assume POI2 is the same as POI1 for the rest of the questions.**"
   ]
  },
  {
   "cell_type": "markdown",
   "metadata": {},
   "source": [
    "### 2. Radius and Density"
   ]
  },
  {
   "cell_type": "code",
   "execution_count": 29,
   "metadata": {},
   "outputs": [],
   "source": [
    "# import spatial packages\n",
    "import geopandas as gpd\n",
    "from shapely.geometry import Point, LineString, Polygon\n",
    "\n",
    "# turn dataset into spaital data frame\n",
    "geometry = [Point(xy) for xy in zip( df.lon_x, df.lat_x)]\n",
    "gdf = gpd.GeoDataFrame(df, crs = 'EPSG:6267', geometry = geometry) # north america projection"
   ]
  },
  {
   "cell_type": "code",
   "execution_count": 30,
   "metadata": {},
   "outputs": [
    {
     "data": {
      "text/html": [
       "<div>\n",
       "<style scoped>\n",
       "    .dataframe tbody tr th:only-of-type {\n",
       "        vertical-align: middle;\n",
       "    }\n",
       "\n",
       "    .dataframe tbody tr th {\n",
       "        vertical-align: top;\n",
       "    }\n",
       "\n",
       "    .dataframe thead th {\n",
       "        text-align: right;\n",
       "    }\n",
       "</style>\n",
       "<table border=\"1\" class=\"dataframe\">\n",
       "  <thead>\n",
       "    <tr style=\"text-align: right;\">\n",
       "      <th></th>\n",
       "      <th>_ID</th>\n",
       "      <th>TimeSt</th>\n",
       "      <th>Country</th>\n",
       "      <th>Province</th>\n",
       "      <th>City</th>\n",
       "      <th>lat_x</th>\n",
       "      <th>lon_x</th>\n",
       "      <th>lat_y</th>\n",
       "      <th>lon_y</th>\n",
       "      <th>distance</th>\n",
       "    </tr>\n",
       "    <tr>\n",
       "      <th>POIID</th>\n",
       "      <th></th>\n",
       "      <th></th>\n",
       "      <th></th>\n",
       "      <th></th>\n",
       "      <th></th>\n",
       "      <th></th>\n",
       "      <th></th>\n",
       "      <th></th>\n",
       "      <th></th>\n",
       "      <th></th>\n",
       "    </tr>\n",
       "  </thead>\n",
       "  <tbody>\n",
       "    <tr>\n",
       "      <th>POI1</th>\n",
       "      <td>5614760</td>\n",
       "      <td>2017-06-21 22:59:56.167</td>\n",
       "      <td>CA</td>\n",
       "      <td>YT</td>\n",
       "      <td>Zhoda</td>\n",
       "      <td>62.8273</td>\n",
       "      <td>-92.60177</td>\n",
       "      <td>53.546167</td>\n",
       "      <td>-113.485734</td>\n",
       "      <td>2624.395</td>\n",
       "    </tr>\n",
       "    <tr>\n",
       "      <th>POI3</th>\n",
       "      <td>5615006</td>\n",
       "      <td>2017-06-21 22:59:47.540</td>\n",
       "      <td>CA</td>\n",
       "      <td>QC</td>\n",
       "      <td>York</td>\n",
       "      <td>50.2301</td>\n",
       "      <td>-68.51790</td>\n",
       "      <td>45.521629</td>\n",
       "      <td>-73.566024</td>\n",
       "      <td>2067.552</td>\n",
       "    </tr>\n",
       "    <tr>\n",
       "      <th>POI4</th>\n",
       "      <td>5612336</td>\n",
       "      <td>2017-06-21 22:46:29.607</td>\n",
       "      <td>CA</td>\n",
       "      <td>QC</td>\n",
       "      <td>Woodfords</td>\n",
       "      <td>49.1771</td>\n",
       "      <td>-52.65660</td>\n",
       "      <td>45.224830</td>\n",
       "      <td>-63.232729</td>\n",
       "      <td>1183.558</td>\n",
       "    </tr>\n",
       "  </tbody>\n",
       "</table>\n",
       "</div>"
      ],
      "text/plain": [
       "           _ID                   TimeSt Country Province       City    lat_x  \\\n",
       "POIID                                                                          \n",
       "POI1   5614760  2017-06-21 22:59:56.167      CA       YT      Zhoda  62.8273   \n",
       "POI3   5615006  2017-06-21 22:59:47.540      CA       QC       York  50.2301   \n",
       "POI4   5612336  2017-06-21 22:46:29.607      CA       QC  Woodfords  49.1771   \n",
       "\n",
       "          lon_x      lat_y       lon_y  distance  \n",
       "POIID                                             \n",
       "POI1  -92.60177  53.546167 -113.485734  2624.395  \n",
       "POI3  -68.51790  45.521629  -73.566024  2067.552  \n",
       "POI4  -52.65660  45.224830  -63.232729  1183.558  "
      ]
     },
     "execution_count": 30,
     "metadata": {},
     "output_type": "execute_result"
    }
   ],
   "source": [
    "# find the furthest point for each POI (use this as radius)\n",
    "radius = df.groupby('POIID').max()\n",
    "radius"
   ]
  },
  {
   "cell_type": "markdown",
   "metadata": {},
   "source": [
    "From the calculation, radius that would cover entries for each POI are 14,376 km, 14,376 km, 2,067 km, 12,784 km. \n",
    "#### However, these numbers did not pass my gut check since all of data entries appear to be from Canada and the distance from east to west coast canada is only ~5,000 km.  \n",
    "\n",
    "#### So I took three further steps to examin the data.  \n",
    "* I double checked unique values in Country and Province columns.  \n",
    "* I plotted all the data points on a map, overlayed country boundaries. It appears that some values were geocoded in Europe.  \n",
    "* I inputted lat and lon data from the three rows above and it seems that Zhoda, YT and Woodfords, QC were geocoded to the wrong location.  "
   ]
  },
  {
   "cell_type": "code",
   "execution_count": 31,
   "metadata": {},
   "outputs": [
    {
     "data": {
      "text/plain": [
       "array(['CA'], dtype=object)"
      ]
     },
     "execution_count": 31,
     "metadata": {},
     "output_type": "execute_result"
    },
    {
     "data": {
      "image/png": "[encoded data removed]",
      "text/plain": [
       "<Figure size 432x288 with 1 Axes>"
      ]
     },
     "metadata": {
      "needs_background": "light"
     },
     "output_type": "display_data"
    }
   ],
   "source": [
    "# examine dataset \n",
    "world = gpd.read_file(gpd.datasets.get_path('naturalearth_lowres'))\n",
    "world.crs = gdf.crs\n",
    "base = world.plot(color = 'white', edgecolor = 'black')\n",
    "gdf.plot(ax = base, marker = '*', color = 'green', markersize = 4)\n",
    "gdf['Country'].unique()"
   ]
  },
  {
   "cell_type": "markdown",
   "metadata": {},
   "source": [
    "#### For the purpose of this assignment, since I'm unfamiliar with how the data were collected, I decided to drop data entries that were geocoded outside of Canada.   \n",
    "\n",
    "One simple way to accomplish this is dropping rows with longitude value greater than -25 (a rough estimate based on visualization above).  \n",
    "\n",
    "#### Realistically, these mistakes can be fixed, sometimes it could be caused by a mistake as simple as messing up the positive/negative sign in lat/lon. \n",
    "Another approach I could take is to change all latitude value to positive sign and all longitude value to negative and check whether the city and coordinate aligns well.  "
   ]
  },
  {
   "cell_type": "code",
   "execution_count": 32,
   "metadata": {},
   "outputs": [],
   "source": [
    "# subset - drop data with wrong geocode\n",
    "gdf = gdf[gdf['lon_x'] < -25] #22 rows dropped\n",
    "df = df[df['lon_x'] < -25]"
   ]
  },
  {
   "cell_type": "markdown",
   "metadata": {},
   "source": [
    "#### Before proceeding, I recalculated average and stadard deviation from 3.1 with this new dataset."
   ]
  },
  {
   "cell_type": "code",
   "execution_count": 33,
   "metadata": {},
   "outputs": [
    {
     "data": {
      "text/html": [
       "<div>\n",
       "<style scoped>\n",
       "    .dataframe tbody tr th:only-of-type {\n",
       "        vertical-align: middle;\n",
       "    }\n",
       "\n",
       "    .dataframe tbody tr th {\n",
       "        vertical-align: top;\n",
       "    }\n",
       "\n",
       "    .dataframe thead th {\n",
       "        text-align: right;\n",
       "    }\n",
       "</style>\n",
       "<table border=\"1\" class=\"dataframe\">\n",
       "  <thead>\n",
       "    <tr style=\"text-align: right;\">\n",
       "      <th></th>\n",
       "      <th>mean</th>\n",
       "      <th>std</th>\n",
       "    </tr>\n",
       "    <tr>\n",
       "      <th>POIID</th>\n",
       "      <th></th>\n",
       "      <th></th>\n",
       "    </tr>\n",
       "  </thead>\n",
       "  <tbody>\n",
       "    <tr>\n",
       "      <th>POI1</th>\n",
       "      <td>291.487914</td>\n",
       "      <td>439.830282</td>\n",
       "    </tr>\n",
       "    <tr>\n",
       "      <th>POI3</th>\n",
       "      <td>587.163258</td>\n",
       "      <td>299.748073</td>\n",
       "    </tr>\n",
       "    <tr>\n",
       "      <th>POI4</th>\n",
       "      <td>298.586591</td>\n",
       "      <td>315.424777</td>\n",
       "    </tr>\n",
       "  </tbody>\n",
       "</table>\n",
       "</div>"
      ],
      "text/plain": [
       "             mean         std\n",
       "POIID                        \n",
       "POI1   291.487914  439.830282\n",
       "POI3   587.163258  299.748073\n",
       "POI4   298.586591  315.424777"
      ]
     },
     "execution_count": 33,
     "metadata": {},
     "output_type": "execute_result"
    }
   ],
   "source": [
    "# recalculate conditional mean and sd\n",
    "stats_new = df[['POIID','distance']].groupby('POIID').mean()\n",
    "stats_new['std'] = df[['POIID','distance']].groupby('POIID').std()['distance']\n",
    "stats_new = stats_new.rename(columns = {'distance':'mean'})\n",
    "stats_new"
   ]
  },
  {
   "cell_type": "markdown",
   "metadata": {},
   "source": [
    "Now the standard deviation makes a lot more sense. "
   ]
  },
  {
   "cell_type": "markdown",
   "metadata": {},
   "source": [
    "#### Back to calculate radius and density. "
   ]
  },
  {
   "cell_type": "code",
   "execution_count": 34,
   "metadata": {},
   "outputs": [
    {
     "data": {
      "text/html": [
       "<div>\n",
       "<style scoped>\n",
       "    .dataframe tbody tr th:only-of-type {\n",
       "        vertical-align: middle;\n",
       "    }\n",
       "\n",
       "    .dataframe tbody tr th {\n",
       "        vertical-align: top;\n",
       "    }\n",
       "\n",
       "    .dataframe thead th {\n",
       "        text-align: right;\n",
       "    }\n",
       "</style>\n",
       "<table border=\"1\" class=\"dataframe\">\n",
       "  <thead>\n",
       "    <tr style=\"text-align: right;\">\n",
       "      <th></th>\n",
       "      <th>_ID</th>\n",
       "      <th>TimeSt</th>\n",
       "      <th>Country</th>\n",
       "      <th>Province</th>\n",
       "      <th>City</th>\n",
       "      <th>lat_x</th>\n",
       "      <th>lon_x</th>\n",
       "      <th>lat_y</th>\n",
       "      <th>lon_y</th>\n",
       "      <th>distance</th>\n",
       "    </tr>\n",
       "    <tr>\n",
       "      <th>POIID</th>\n",
       "      <th></th>\n",
       "      <th></th>\n",
       "      <th></th>\n",
       "      <th></th>\n",
       "      <th></th>\n",
       "      <th></th>\n",
       "      <th></th>\n",
       "      <th></th>\n",
       "      <th></th>\n",
       "      <th></th>\n",
       "    </tr>\n",
       "  </thead>\n",
       "  <tbody>\n",
       "    <tr>\n",
       "      <th>POI1</th>\n",
       "      <td>5614760</td>\n",
       "      <td>2017-06-21 22:59:56.167</td>\n",
       "      <td>CA</td>\n",
       "      <td>YT</td>\n",
       "      <td>Zhoda</td>\n",
       "      <td>62.8273</td>\n",
       "      <td>-92.60177</td>\n",
       "      <td>53.546167</td>\n",
       "      <td>-113.485734</td>\n",
       "      <td>2624.395</td>\n",
       "    </tr>\n",
       "    <tr>\n",
       "      <th>POI3</th>\n",
       "      <td>5615006</td>\n",
       "      <td>2017-06-21 22:59:47.540</td>\n",
       "      <td>CA</td>\n",
       "      <td>QC</td>\n",
       "      <td>York</td>\n",
       "      <td>50.2301</td>\n",
       "      <td>-68.51790</td>\n",
       "      <td>45.521629</td>\n",
       "      <td>-73.566024</td>\n",
       "      <td>2067.552</td>\n",
       "    </tr>\n",
       "    <tr>\n",
       "      <th>POI4</th>\n",
       "      <td>5612336</td>\n",
       "      <td>2017-06-21 22:46:29.607</td>\n",
       "      <td>CA</td>\n",
       "      <td>QC</td>\n",
       "      <td>Woodfords</td>\n",
       "      <td>49.1771</td>\n",
       "      <td>-52.65660</td>\n",
       "      <td>45.224830</td>\n",
       "      <td>-63.232729</td>\n",
       "      <td>1183.558</td>\n",
       "    </tr>\n",
       "  </tbody>\n",
       "</table>\n",
       "</div>"
      ],
      "text/plain": [
       "           _ID                   TimeSt Country Province       City    lat_x  \\\n",
       "POIID                                                                          \n",
       "POI1   5614760  2017-06-21 22:59:56.167      CA       YT      Zhoda  62.8273   \n",
       "POI3   5615006  2017-06-21 22:59:47.540      CA       QC       York  50.2301   \n",
       "POI4   5612336  2017-06-21 22:46:29.607      CA       QC  Woodfords  49.1771   \n",
       "\n",
       "          lon_x      lat_y       lon_y  distance  \n",
       "POIID                                             \n",
       "POI1  -92.60177  53.546167 -113.485734  2624.395  \n",
       "POI3  -68.51790  45.521629  -73.566024  2067.552  \n",
       "POI4  -52.65660  45.224830  -63.232729  1183.558  "
      ]
     },
     "execution_count": 34,
     "metadata": {},
     "output_type": "execute_result"
    }
   ],
   "source": [
    "# calculate radius\n",
    "radius_new = df.groupby('POIID').max()\n",
    "radius_new"
   ]
  },
  {
   "cell_type": "markdown",
   "metadata": {},
   "source": [
    "Radius for each POI is as follows:   \n",
    "* POI1/POI2: 2,624 km\n",
    "* POI3: 2,068 km\n",
    "* POI4: 1,184 km"
   ]
  },
  {
   "cell_type": "markdown",
   "metadata": {},
   "source": [
    "#### Draw circles with radius using buffer."
   ]
  },
  {
   "cell_type": "code",
   "execution_count": 35,
   "metadata": {},
   "outputs": [
    {
     "data": {
      "text/plain": [
       "<AxesSubplot:>"
      ]
     },
     "execution_count": 35,
     "metadata": {},
     "output_type": "execute_result"
    },
    {
     "data": {
      "image/png": "[encoded data removed]",
      "text/plain": [
       "<Figure size 432x288 with 1 Axes>"
      ]
     },
     "metadata": {
      "needs_background": "light"
     },
     "output_type": "display_data"
    }
   ],
   "source": [
    "# create spatial dataframe\n",
    "geometry2 = [Point(xy) for xy in zip( radius_new.lon_y, radius_new.lat_y)]\n",
    "radius_new = gpd.GeoDataFrame(radius, crs = 'EPSG:6267', geometry = geometry2)\n",
    "# create buffer column (km -> m)\n",
    "radius_new['Buffer'] = radius['distance']*1000\n",
    "\n",
    "# create buffer spatial dataframe\n",
    "radius_buffer = radius_new.copy()\n",
    "\n",
    "# for each row, buffer different distance\n",
    "#radius_buffer['geometry'] = radius_buffer.apply(lambda row: row.geometry.buffer(row.Buffer), axis=1)\n",
    "radius_buffer['geometry'] = radius_buffer.geometry.buffer(distance=radius_buffer['Buffer'])\n",
    "\n",
    "# code that should work\n",
    "temp_plot = radius_buffer.plot()\n",
    "gdf.plot(ax = temp_plot, marker = '*', color = 'red', markersize = 10)"
   ]
  },
  {
   "cell_type": "markdown",
   "metadata": {},
   "source": [
    "The above code should work since EPSG 3978 projection intake meter as its buffer unit. For the longest time, I couldn't figure out why the code would show one enlarged circle at (0,0). Upon further examination, I realized that it is because the radius is too big three circles overlap on top of each other. Although I am still not sure at which step in my code I did wrong, the below code works to get the desired map.  \n",
    "\n",
    "\n"
   ]
  },
  {
   "cell_type": "code",
   "execution_count": 36,
   "metadata": {},
   "outputs": [
    {
     "data": {
      "text/plain": [
       "<AxesSubplot:>"
      ]
     },
     "execution_count": 36,
     "metadata": {},
     "output_type": "execute_result"
    },
    {
     "data": {
      "image/png": "[encoded data removed]",
      "text/plain": [
       "<Figure size 432x288 with 1 Axes>"
      ]
     },
     "metadata": {
      "needs_background": "light"
     },
     "output_type": "display_data"
    }
   ],
   "source": [
    "radius_buffer['temp'] = [25.0, 16.0, 13.0]\n",
    "base = radius_new.buffer(distance = radius_buffer['temp']).plot()\n",
    "gdf.plot(ax = base, marker = '*', color = 'red', markersize =1)"
   ]
  },
  {
   "cell_type": "markdown",
   "metadata": {},
   "source": [
    "**Lastly, we need to calculate area and count requests to calculate density in requests/area(km2).**"
   ]
  },
  {
   "cell_type": "code",
   "execution_count": 38,
   "metadata": {},
   "outputs": [
    {
     "data": {
      "text/html": [
       "<div>\n",
       "<style scoped>\n",
       "    .dataframe tbody tr th:only-of-type {\n",
       "        vertical-align: middle;\n",
       "    }\n",
       "\n",
       "    .dataframe tbody tr th {\n",
       "        vertical-align: top;\n",
       "    }\n",
       "\n",
       "    .dataframe thead th {\n",
       "        text-align: right;\n",
       "    }\n",
       "</style>\n",
       "<table border=\"1\" class=\"dataframe\">\n",
       "  <thead>\n",
       "    <tr style=\"text-align: right;\">\n",
       "      <th></th>\n",
       "      <th>radius_km</th>\n",
       "      <th>area_km2</th>\n",
       "      <th>requests</th>\n",
       "      <th>density</th>\n",
       "    </tr>\n",
       "    <tr>\n",
       "      <th>POIID</th>\n",
       "      <th></th>\n",
       "      <th></th>\n",
       "      <th></th>\n",
       "      <th></th>\n",
       "    </tr>\n",
       "  </thead>\n",
       "  <tbody>\n",
       "    <tr>\n",
       "      <th>POI1</th>\n",
       "      <td>2624.395</td>\n",
       "      <td>2.160282e+07</td>\n",
       "      <td>9720</td>\n",
       "      <td>4.499413</td>\n",
       "    </tr>\n",
       "    <tr>\n",
       "      <th>POI3</th>\n",
       "      <td>2067.552</td>\n",
       "      <td>1.340803e+07</td>\n",
       "      <td>9795</td>\n",
       "      <td>7.305325</td>\n",
       "    </tr>\n",
       "    <tr>\n",
       "      <th>POI4</th>\n",
       "      <td>1183.558</td>\n",
       "      <td>4.393707e+06</td>\n",
       "      <td>462</td>\n",
       "      <td>1.051504</td>\n",
       "    </tr>\n",
       "  </tbody>\n",
       "</table>\n",
       "</div>"
      ],
      "text/plain": [
       "       radius_km      area_km2  requests   density\n",
       "POIID                                             \n",
       "POI1    2624.395  2.160282e+07      9720  4.499413\n",
       "POI3    2067.552  1.340803e+07      9795  7.305325\n",
       "POI4    1183.558  4.393707e+06       462  1.051504"
      ]
     },
     "execution_count": 38,
     "metadata": {},
     "output_type": "execute_result"
    }
   ],
   "source": [
    "radius_buffer['area_km2'] = radius_buffer.area/(1000*1000) #in km2\n",
    "radius_buffer['requests'] = df[['_ID', 'POIID']].groupby(['POIID']).agg('count')\n",
    "radius_buffer['density'] = radius_buffer['requests']/radius_buffer['area_km2']*10000 #density in requests/10000 km2\n",
    "radius_buffer['radius_km'] = radius_buffer['distance']\n",
    "\n",
    "radius_buffer[['radius_km','area_km2', 'requests', 'density']]"
   ]
  },
  {
   "cell_type": "markdown",
   "metadata": {},
   "source": [
    "Request density for each POI are as follows:   \n",
    "* POI1/POI2: **4** requests per 10,000 km2\n",
    "* POI3: **7** requests per 10,000 km2\n",
    "* POI4: **1** requests per 10,000 km2"
   ]
  },
  {
   "cell_type": "markdown",
   "metadata": {},
   "source": [
    "## Question 4 Data Science/Engineering Tracks"
   ]
  },
  {
   "cell_type": "markdown",
   "metadata": {},
   "source": [
    "### 4a. model"
   ]
  },
  {
   "cell_type": "markdown",
   "metadata": {},
   "source": [
    "**Overview:** To build a mathematical model that visualize the popularity of each POI, I've decided to incorporate census data to get a general sense of the demographics at each location on census division (CD) level. I'll calculate number of requests per 100,000 population in each CD as popularity, and normalize this number on a scale of -10 to 10. To give a visual differntiality boost, I'll overlay this choropleth map with original points, color coded by each POI. "
   ]
  },
  {
   "cell_type": "markdown",
   "metadata": {},
   "source": [
    "**Import Data & Prepare Data for Analysis**"
   ]
  },
  {
   "cell_type": "code",
   "execution_count": 216,
   "metadata": {},
   "outputs": [
    {
     "data": {
      "text/html": [
       "<div>\n",
       "<style scoped>\n",
       "    .dataframe tbody tr th:only-of-type {\n",
       "        vertical-align: middle;\n",
       "    }\n",
       "\n",
       "    .dataframe tbody tr th {\n",
       "        vertical-align: top;\n",
       "    }\n",
       "\n",
       "    .dataframe thead th {\n",
       "        text-align: right;\n",
       "    }\n",
       "</style>\n",
       "<table border=\"1\" class=\"dataframe\">\n",
       "  <thead>\n",
       "    <tr style=\"text-align: right;\">\n",
       "      <th></th>\n",
       "      <th>CDUID</th>\n",
       "      <th>CDNAME</th>\n",
       "      <th>CDTYPE</th>\n",
       "      <th>PRUID</th>\n",
       "      <th>PRNAME</th>\n",
       "      <th>geometry</th>\n",
       "    </tr>\n",
       "  </thead>\n",
       "  <tbody>\n",
       "    <tr>\n",
       "      <th>0</th>\n",
       "      <td>1101</td>\n",
       "      <td>Kings</td>\n",
       "      <td>CTY</td>\n",
       "      <td>11</td>\n",
       "      <td>Prince Edward Island / Île-du-Prince-Édouard</td>\n",
       "      <td>POLYGON ((8427169.677 1633933.906, 8427164.649...</td>\n",
       "    </tr>\n",
       "    <tr>\n",
       "      <th>1</th>\n",
       "      <td>1102</td>\n",
       "      <td>Queens</td>\n",
       "      <td>CTY</td>\n",
       "      <td>11</td>\n",
       "      <td>Prince Edward Island / Île-du-Prince-Édouard</td>\n",
       "      <td>POLYGON ((8382758.289 1638763.660, 8382833.617...</td>\n",
       "    </tr>\n",
       "    <tr>\n",
       "      <th>2</th>\n",
       "      <td>1103</td>\n",
       "      <td>Prince</td>\n",
       "      <td>CTY</td>\n",
       "      <td>11</td>\n",
       "      <td>Prince Edward Island / Île-du-Prince-Édouard</td>\n",
       "      <td>POLYGON ((8294354.734 1636914.940, 8296485.909...</td>\n",
       "    </tr>\n",
       "    <tr>\n",
       "      <th>3</th>\n",
       "      <td>1201</td>\n",
       "      <td>Shelburne</td>\n",
       "      <td>CTY</td>\n",
       "      <td>12</td>\n",
       "      <td>Nova Scotia / Nouvelle-Écosse</td>\n",
       "      <td>POLYGON ((8297919.123 1336571.160, 8298295.283...</td>\n",
       "    </tr>\n",
       "    <tr>\n",
       "      <th>4</th>\n",
       "      <td>1202</td>\n",
       "      <td>Yarmouth</td>\n",
       "      <td>CTY</td>\n",
       "      <td>12</td>\n",
       "      <td>Nova Scotia / Nouvelle-Écosse</td>\n",
       "      <td>POLYGON ((8297919.123 1336571.160, 8297905.200...</td>\n",
       "    </tr>\n",
       "  </tbody>\n",
       "</table>\n",
       "</div>"
      ],
      "text/plain": [
       "   CDUID     CDNAME CDTYPE PRUID  \\\n",
       "0   1101      Kings    CTY    11   \n",
       "1   1102     Queens    CTY    11   \n",
       "2   1103     Prince    CTY    11   \n",
       "3   1201  Shelburne    CTY    12   \n",
       "4   1202   Yarmouth    CTY    12   \n",
       "\n",
       "                                         PRNAME  \\\n",
       "0  Prince Edward Island / Île-du-Prince-Édouard   \n",
       "1  Prince Edward Island / Île-du-Prince-Édouard   \n",
       "2  Prince Edward Island / Île-du-Prince-Édouard   \n",
       "3                 Nova Scotia / Nouvelle-Écosse   \n",
       "4                 Nova Scotia / Nouvelle-Écosse   \n",
       "\n",
       "                                            geometry  \n",
       "0  POLYGON ((8427169.677 1633933.906, 8427164.649...  \n",
       "1  POLYGON ((8382758.289 1638763.660, 8382833.617...  \n",
       "2  POLYGON ((8294354.734 1636914.940, 8296485.909...  \n",
       "3  POLYGON ((8297919.123 1336571.160, 8298295.283...  \n",
       "4  POLYGON ((8297919.123 1336571.160, 8297905.200...  "
      ]
     },
     "execution_count": 216,
     "metadata": {},
     "output_type": "execute_result"
    }
   ],
   "source": [
    "# import census boundary shapefile\n",
    "cd_boundary = gpd.read_file('/Users/maggiema/Downloads/lcd_000a16a_e/lcd_000a16a_e.shp') #downloaded from StatsCan\n",
    "cd_boundary['CDUID']=cd_boundary['CDUID'].astype(int)\n",
    "cd_boundary.head()"
   ]
  },
  {
   "cell_type": "code",
   "execution_count": 217,
   "metadata": {},
   "outputs": [
    {
     "data": {
      "text/html": [
       "<div>\n",
       "<style scoped>\n",
       "    .dataframe tbody tr th:only-of-type {\n",
       "        vertical-align: middle;\n",
       "    }\n",
       "\n",
       "    .dataframe tbody tr th {\n",
       "        vertical-align: top;\n",
       "    }\n",
       "\n",
       "    .dataframe thead th {\n",
       "        text-align: right;\n",
       "    }\n",
       "</style>\n",
       "<table border=\"1\" class=\"dataframe\">\n",
       "  <thead>\n",
       "    <tr style=\"text-align: right;\">\n",
       "      <th></th>\n",
       "      <th>COL0</th>\n",
       "      <th>COL1</th>\n",
       "    </tr>\n",
       "  </thead>\n",
       "  <tbody>\n",
       "    <tr>\n",
       "      <th>0</th>\n",
       "      <td>1001</td>\n",
       "      <td>270348.0</td>\n",
       "    </tr>\n",
       "    <tr>\n",
       "      <th>1</th>\n",
       "      <td>1002</td>\n",
       "      <td>20372.0</td>\n",
       "    </tr>\n",
       "    <tr>\n",
       "      <th>2</th>\n",
       "      <td>1003</td>\n",
       "      <td>15560.0</td>\n",
       "    </tr>\n",
       "    <tr>\n",
       "      <th>3</th>\n",
       "      <td>1004</td>\n",
       "      <td>20387.0</td>\n",
       "    </tr>\n",
       "    <tr>\n",
       "      <th>4</th>\n",
       "      <td>1005</td>\n",
       "      <td>42014.0</td>\n",
       "    </tr>\n",
       "  </tbody>\n",
       "</table>\n",
       "</div>"
      ],
      "text/plain": [
       "   COL0      COL1\n",
       "0  1001  270348.0\n",
       "1  1002   20372.0\n",
       "2  1003   15560.0\n",
       "3  1004   20387.0\n",
       "4  1005   42014.0"
      ]
     },
     "execution_count": 217,
     "metadata": {},
     "output_type": "execute_result"
    }
   ],
   "source": [
    "# import population data \n",
    "popdat = pd.read_csv('https://raw.githubusercontent.com/mamaggie/SampleWorkSolution/main/pop_data.csv')\n",
    "popdat.head()"
   ]
  },
  {
   "cell_type": "code",
   "execution_count": 218,
   "metadata": {},
   "outputs": [
    {
     "data": {
      "text/html": [
       "<div>\n",
       "<style scoped>\n",
       "    .dataframe tbody tr th:only-of-type {\n",
       "        vertical-align: middle;\n",
       "    }\n",
       "\n",
       "    .dataframe tbody tr th {\n",
       "        vertical-align: top;\n",
       "    }\n",
       "\n",
       "    .dataframe thead th {\n",
       "        text-align: right;\n",
       "    }\n",
       "</style>\n",
       "<table border=\"1\" class=\"dataframe\">\n",
       "  <thead>\n",
       "    <tr style=\"text-align: right;\">\n",
       "      <th></th>\n",
       "      <th>CDUID</th>\n",
       "      <th>CDNAME</th>\n",
       "      <th>CDTYPE</th>\n",
       "      <th>PRUID</th>\n",
       "      <th>PRNAME</th>\n",
       "      <th>geometry</th>\n",
       "      <th>COL0</th>\n",
       "      <th>COL1</th>\n",
       "    </tr>\n",
       "  </thead>\n",
       "  <tbody>\n",
       "    <tr>\n",
       "      <th>0</th>\n",
       "      <td>1101</td>\n",
       "      <td>Kings</td>\n",
       "      <td>CTY</td>\n",
       "      <td>11</td>\n",
       "      <td>Prince Edward Island / Île-du-Prince-Édouard</td>\n",
       "      <td>POLYGON ((-62.34662 46.12657, -62.35597 46.113...</td>\n",
       "      <td>1101</td>\n",
       "      <td>17160.0</td>\n",
       "    </tr>\n",
       "    <tr>\n",
       "      <th>1</th>\n",
       "      <td>1102</td>\n",
       "      <td>Queens</td>\n",
       "      <td>CTY</td>\n",
       "      <td>11</td>\n",
       "      <td>Prince Edward Island / Île-du-Prince-Édouard</td>\n",
       "      <td>POLYGON ((-62.82901 46.34050, -62.82865 46.339...</td>\n",
       "      <td>1102</td>\n",
       "      <td>82017.0</td>\n",
       "    </tr>\n",
       "    <tr>\n",
       "      <th>2</th>\n",
       "      <td>1103</td>\n",
       "      <td>Prince</td>\n",
       "      <td>CTY</td>\n",
       "      <td>11</td>\n",
       "      <td>Prince Edward Island / Île-du-Prince-Édouard</td>\n",
       "      <td>POLYGON ((-63.86653 46.66686, -63.84550 46.653...</td>\n",
       "      <td>1103</td>\n",
       "      <td>43730.0</td>\n",
       "    </tr>\n",
       "    <tr>\n",
       "      <th>3</th>\n",
       "      <td>1201</td>\n",
       "      <td>Shelburne</td>\n",
       "      <td>CTY</td>\n",
       "      <td>12</td>\n",
       "      <td>Nova Scotia / Nouvelle-Écosse</td>\n",
       "      <td>POLYGON ((-65.39582 44.23232, -65.39249 44.229...</td>\n",
       "      <td>1201</td>\n",
       "      <td>13966.0</td>\n",
       "    </tr>\n",
       "    <tr>\n",
       "      <th>4</th>\n",
       "      <td>1202</td>\n",
       "      <td>Yarmouth</td>\n",
       "      <td>CTY</td>\n",
       "      <td>12</td>\n",
       "      <td>Nova Scotia / Nouvelle-Écosse</td>\n",
       "      <td>POLYGON ((-65.39582 44.23232, -65.39669 44.231...</td>\n",
       "      <td>1202</td>\n",
       "      <td>24419.0</td>\n",
       "    </tr>\n",
       "  </tbody>\n",
       "</table>\n",
       "</div>"
      ],
      "text/plain": [
       "   CDUID     CDNAME CDTYPE PRUID  \\\n",
       "0   1101      Kings    CTY    11   \n",
       "1   1102     Queens    CTY    11   \n",
       "2   1103     Prince    CTY    11   \n",
       "3   1201  Shelburne    CTY    12   \n",
       "4   1202   Yarmouth    CTY    12   \n",
       "\n",
       "                                         PRNAME  \\\n",
       "0  Prince Edward Island / Île-du-Prince-Édouard   \n",
       "1  Prince Edward Island / Île-du-Prince-Édouard   \n",
       "2  Prince Edward Island / Île-du-Prince-Édouard   \n",
       "3                 Nova Scotia / Nouvelle-Écosse   \n",
       "4                 Nova Scotia / Nouvelle-Écosse   \n",
       "\n",
       "                                            geometry  COL0     COL1  \n",
       "0  POLYGON ((-62.34662 46.12657, -62.35597 46.113...  1101  17160.0  \n",
       "1  POLYGON ((-62.82901 46.34050, -62.82865 46.339...  1102  82017.0  \n",
       "2  POLYGON ((-63.86653 46.66686, -63.84550 46.653...  1103  43730.0  \n",
       "3  POLYGON ((-65.39582 44.23232, -65.39249 44.229...  1201  13966.0  \n",
       "4  POLYGON ((-65.39582 44.23232, -65.39669 44.231...  1202  24419.0  "
      ]
     },
     "execution_count": 218,
     "metadata": {},
     "output_type": "execute_result"
    }
   ],
   "source": [
    "# merge data\n",
    "dat = pd.merge(cd_boundary, popdat, left_on = 'CDUID', right_on = 'COL0', how = 'left')\n",
    "dat = dat.to_crs('EPSG:4326') #for spatial join\n",
    "dat.head()"
   ]
  },
  {
   "cell_type": "code",
   "execution_count": 219,
   "metadata": {},
   "outputs": [
    {
     "data": {
      "text/plain": [
       "<AxesSubplot:>"
      ]
     },
     "execution_count": 219,
     "metadata": {},
     "output_type": "execute_result"
    },
    {
     "data": {
      "image/png": "[encoded data removed]",
      "text/plain": [
       "<Figure size 432x288 with 1 Axes>"
      ]
     },
     "metadata": {
      "needs_background": "light"
     },
     "output_type": "display_data"
    }
   ],
   "source": [
    "# visualize data\n",
    "poly = dat.plot(color = 'white', edgecolor = 'black')\n",
    "gdf.plot(ax = poly, color = 'green', markersize = 1)"
   ]
  },
  {
   "cell_type": "markdown",
   "metadata": {},
   "source": [
    "**spatial join request data with boundary shapefile and record counts.**"
   ]
  },
  {
   "cell_type": "code",
   "execution_count": 220,
   "metadata": {},
   "outputs": [
    {
     "data": {
      "text/html": [
       "<div>\n",
       "<style scoped>\n",
       "    .dataframe tbody tr th:only-of-type {\n",
       "        vertical-align: middle;\n",
       "    }\n",
       "\n",
       "    .dataframe tbody tr th {\n",
       "        vertical-align: top;\n",
       "    }\n",
       "\n",
       "    .dataframe thead th {\n",
       "        text-align: right;\n",
       "    }\n",
       "</style>\n",
       "<table border=\"1\" class=\"dataframe\">\n",
       "  <thead>\n",
       "    <tr style=\"text-align: right;\">\n",
       "      <th></th>\n",
       "      <th>_ID</th>\n",
       "      <th>TimeSt</th>\n",
       "      <th>Country</th>\n",
       "      <th>Province</th>\n",
       "      <th>City</th>\n",
       "      <th>lat_x</th>\n",
       "      <th>lon_x</th>\n",
       "      <th>POIID</th>\n",
       "      <th>lat_y</th>\n",
       "      <th>lon_y</th>\n",
       "      <th>distance</th>\n",
       "      <th>geometry</th>\n",
       "      <th>index_right</th>\n",
       "      <th>CDUID</th>\n",
       "      <th>CDNAME</th>\n",
       "      <th>CDTYPE</th>\n",
       "      <th>PRUID</th>\n",
       "      <th>PRNAME</th>\n",
       "      <th>COL0</th>\n",
       "      <th>COL1</th>\n",
       "    </tr>\n",
       "  </thead>\n",
       "  <tbody>\n",
       "    <tr>\n",
       "      <th>0</th>\n",
       "      <td>4516516</td>\n",
       "      <td>2017-06-21 00:00:00.143</td>\n",
       "      <td>CA</td>\n",
       "      <td>ON</td>\n",
       "      <td>Waterloo</td>\n",
       "      <td>43.49347</td>\n",
       "      <td>-80.49123</td>\n",
       "      <td>POI3</td>\n",
       "      <td>45.521629</td>\n",
       "      <td>-73.566024</td>\n",
       "      <td>771.593</td>\n",
       "      <td>POINT (-80.49109 43.49353)</td>\n",
       "      <td>186.0</td>\n",
       "      <td>3530.0</td>\n",
       "      <td>Waterloo</td>\n",
       "      <td>RM</td>\n",
       "      <td>35</td>\n",
       "      <td>Ontario</td>\n",
       "      <td>3530.0</td>\n",
       "      <td>535154.0</td>\n",
       "    </tr>\n",
       "    <tr>\n",
       "      <th>1</th>\n",
       "      <td>4516547</td>\n",
       "      <td>2017-06-21 18:00:00.193</td>\n",
       "      <td>CA</td>\n",
       "      <td>ON</td>\n",
       "      <td>London</td>\n",
       "      <td>42.93990</td>\n",
       "      <td>-81.27090</td>\n",
       "      <td>POI3</td>\n",
       "      <td>45.521629</td>\n",
       "      <td>-73.566024</td>\n",
       "      <td>858.812</td>\n",
       "      <td>POINT (-81.27076 42.93996)</td>\n",
       "      <td>193.0</td>\n",
       "      <td>3539.0</td>\n",
       "      <td>Middlesex</td>\n",
       "      <td>CTY</td>\n",
       "      <td>35</td>\n",
       "      <td>Ontario</td>\n",
       "      <td>3539.0</td>\n",
       "      <td>455526.0</td>\n",
       "    </tr>\n",
       "    <tr>\n",
       "      <th>2</th>\n",
       "      <td>4516550</td>\n",
       "      <td>2017-06-21 15:00:00.287</td>\n",
       "      <td>CA</td>\n",
       "      <td>ON</td>\n",
       "      <td>Guelph</td>\n",
       "      <td>43.57760</td>\n",
       "      <td>-80.22010</td>\n",
       "      <td>POI3</td>\n",
       "      <td>45.521629</td>\n",
       "      <td>-73.566024</td>\n",
       "      <td>741.419</td>\n",
       "      <td>POINT (-80.21996 43.57766)</td>\n",
       "      <td>180.0</td>\n",
       "      <td>3523.0</td>\n",
       "      <td>Wellington</td>\n",
       "      <td>CTY</td>\n",
       "      <td>35</td>\n",
       "      <td>Ontario</td>\n",
       "      <td>3523.0</td>\n",
       "      <td>222726.0</td>\n",
       "    </tr>\n",
       "    <tr>\n",
       "      <th>3</th>\n",
       "      <td>4516600</td>\n",
       "      <td>2017-06-21 15:00:00.307</td>\n",
       "      <td>CA</td>\n",
       "      <td>ON</td>\n",
       "      <td>Stratford</td>\n",
       "      <td>43.37160</td>\n",
       "      <td>-80.97730</td>\n",
       "      <td>POI3</td>\n",
       "      <td>45.521629</td>\n",
       "      <td>-73.566024</td>\n",
       "      <td>825.638</td>\n",
       "      <td>POINT (-80.97716 43.37166)</td>\n",
       "      <td>187.0</td>\n",
       "      <td>3531.0</td>\n",
       "      <td>Perth</td>\n",
       "      <td>CTY</td>\n",
       "      <td>35</td>\n",
       "      <td>Ontario</td>\n",
       "      <td>3531.0</td>\n",
       "      <td>76796.0</td>\n",
       "    </tr>\n",
       "    <tr>\n",
       "      <th>4</th>\n",
       "      <td>4516613</td>\n",
       "      <td>2017-06-21 15:00:00.497</td>\n",
       "      <td>CA</td>\n",
       "      <td>ON</td>\n",
       "      <td>Stratford</td>\n",
       "      <td>43.37160</td>\n",
       "      <td>-80.97730</td>\n",
       "      <td>POI3</td>\n",
       "      <td>45.521629</td>\n",
       "      <td>-73.566024</td>\n",
       "      <td>825.638</td>\n",
       "      <td>POINT (-80.97716 43.37166)</td>\n",
       "      <td>187.0</td>\n",
       "      <td>3531.0</td>\n",
       "      <td>Perth</td>\n",
       "      <td>CTY</td>\n",
       "      <td>35</td>\n",
       "      <td>Ontario</td>\n",
       "      <td>3531.0</td>\n",
       "      <td>76796.0</td>\n",
       "    </tr>\n",
       "  </tbody>\n",
       "</table>\n",
       "</div>"
      ],
      "text/plain": [
       "       _ID                   TimeSt Country Province       City     lat_x  \\\n",
       "0  4516516  2017-06-21 00:00:00.143      CA       ON   Waterloo  43.49347   \n",
       "1  4516547  2017-06-21 18:00:00.193      CA       ON     London  42.93990   \n",
       "2  4516550  2017-06-21 15:00:00.287      CA       ON     Guelph  43.57760   \n",
       "3  4516600  2017-06-21 15:00:00.307      CA       ON  Stratford  43.37160   \n",
       "4  4516613  2017-06-21 15:00:00.497      CA       ON  Stratford  43.37160   \n",
       "\n",
       "      lon_x POIID      lat_y      lon_y  distance                    geometry  \\\n",
       "0 -80.49123  POI3  45.521629 -73.566024   771.593  POINT (-80.49109 43.49353)   \n",
       "1 -81.27090  POI3  45.521629 -73.566024   858.812  POINT (-81.27076 42.93996)   \n",
       "2 -80.22010  POI3  45.521629 -73.566024   741.419  POINT (-80.21996 43.57766)   \n",
       "3 -80.97730  POI3  45.521629 -73.566024   825.638  POINT (-80.97716 43.37166)   \n",
       "4 -80.97730  POI3  45.521629 -73.566024   825.638  POINT (-80.97716 43.37166)   \n",
       "\n",
       "   index_right   CDUID      CDNAME CDTYPE PRUID   PRNAME    COL0      COL1  \n",
       "0        186.0  3530.0    Waterloo     RM    35  Ontario  3530.0  535154.0  \n",
       "1        193.0  3539.0   Middlesex    CTY    35  Ontario  3539.0  455526.0  \n",
       "2        180.0  3523.0  Wellington    CTY    35  Ontario  3523.0  222726.0  \n",
       "3        187.0  3531.0       Perth    CTY    35  Ontario  3531.0   76796.0  \n",
       "4        187.0  3531.0       Perth    CTY    35  Ontario  3531.0   76796.0  "
      ]
     },
     "execution_count": 220,
     "metadata": {},
     "output_type": "execute_result"
    }
   ],
   "source": [
    "from geopandas.tools import sjoin\n",
    "# spatial join- assign CDUID to each request entry\n",
    "join = gpd.sjoin(gdf, dat, how = 'left', op = 'within')\n",
    "join.head()"
   ]
  },
  {
   "cell_type": "code",
   "execution_count": 221,
   "metadata": {},
   "outputs": [
    {
     "data": {
      "text/html": [
       "<div>\n",
       "<style scoped>\n",
       "    .dataframe tbody tr th:only-of-type {\n",
       "        vertical-align: middle;\n",
       "    }\n",
       "\n",
       "    .dataframe tbody tr th {\n",
       "        vertical-align: top;\n",
       "    }\n",
       "\n",
       "    .dataframe thead th {\n",
       "        text-align: right;\n",
       "    }\n",
       "</style>\n",
       "<table border=\"1\" class=\"dataframe\">\n",
       "  <thead>\n",
       "    <tr style=\"text-align: right;\">\n",
       "      <th></th>\n",
       "      <th>CDUID</th>\n",
       "      <th>CDNAME</th>\n",
       "      <th>pop</th>\n",
       "      <th>counts</th>\n",
       "    </tr>\n",
       "  </thead>\n",
       "  <tbody>\n",
       "    <tr>\n",
       "      <th>0</th>\n",
       "      <td>1101</td>\n",
       "      <td>Kings</td>\n",
       "      <td>17160.0</td>\n",
       "      <td>NaN</td>\n",
       "    </tr>\n",
       "    <tr>\n",
       "      <th>1</th>\n",
       "      <td>1102</td>\n",
       "      <td>Queens</td>\n",
       "      <td>82017.0</td>\n",
       "      <td>NaN</td>\n",
       "    </tr>\n",
       "    <tr>\n",
       "      <th>2</th>\n",
       "      <td>1103</td>\n",
       "      <td>Prince</td>\n",
       "      <td>43730.0</td>\n",
       "      <td>1.0</td>\n",
       "    </tr>\n",
       "    <tr>\n",
       "      <th>3</th>\n",
       "      <td>1201</td>\n",
       "      <td>Shelburne</td>\n",
       "      <td>13966.0</td>\n",
       "      <td>NaN</td>\n",
       "    </tr>\n",
       "    <tr>\n",
       "      <th>4</th>\n",
       "      <td>1202</td>\n",
       "      <td>Yarmouth</td>\n",
       "      <td>24419.0</td>\n",
       "      <td>NaN</td>\n",
       "    </tr>\n",
       "  </tbody>\n",
       "</table>\n",
       "</div>"
      ],
      "text/plain": [
       "   CDUID     CDNAME      pop  counts\n",
       "0   1101      Kings  17160.0     NaN\n",
       "1   1102     Queens  82017.0     NaN\n",
       "2   1103     Prince  43730.0     1.0\n",
       "3   1201  Shelburne  13966.0     NaN\n",
       "4   1202   Yarmouth  24419.0     NaN"
      ]
     },
     "execution_count": 221,
     "metadata": {},
     "output_type": "execute_result"
    }
   ],
   "source": [
    "# count number of points in each Census Division\n",
    "counts = join.groupby('CDUID').size().reset_index(name = 'counts')\n",
    "\n",
    "# join back with boundary shapefile\n",
    "dat = pd.merge(dat, counts, on = 'CDUID', how = 'left')\n",
    "dat['pop'] = dat['COL1']\n",
    "dat[['CDUID', 'CDNAME', 'pop', 'counts']].head()"
   ]
  },
  {
   "cell_type": "code",
   "execution_count": 222,
   "metadata": {},
   "outputs": [
    {
     "data": {
      "text/html": [
       "<div>\n",
       "<style scoped>\n",
       "    .dataframe tbody tr th:only-of-type {\n",
       "        vertical-align: middle;\n",
       "    }\n",
       "\n",
       "    .dataframe tbody tr th {\n",
       "        vertical-align: top;\n",
       "    }\n",
       "\n",
       "    .dataframe thead th {\n",
       "        text-align: right;\n",
       "    }\n",
       "</style>\n",
       "<table border=\"1\" class=\"dataframe\">\n",
       "  <thead>\n",
       "    <tr style=\"text-align: right;\">\n",
       "      <th></th>\n",
       "      <th>CDUID</th>\n",
       "      <th>CDNAME</th>\n",
       "      <th>pop</th>\n",
       "      <th>counts</th>\n",
       "      <th>popularity</th>\n",
       "    </tr>\n",
       "  </thead>\n",
       "  <tbody>\n",
       "    <tr>\n",
       "      <th>0</th>\n",
       "      <td>1101</td>\n",
       "      <td>Kings</td>\n",
       "      <td>17160.0</td>\n",
       "      <td>0.0</td>\n",
       "      <td>0.00000</td>\n",
       "    </tr>\n",
       "    <tr>\n",
       "      <th>1</th>\n",
       "      <td>1102</td>\n",
       "      <td>Queens</td>\n",
       "      <td>82017.0</td>\n",
       "      <td>0.0</td>\n",
       "      <td>0.00000</td>\n",
       "    </tr>\n",
       "    <tr>\n",
       "      <th>2</th>\n",
       "      <td>1103</td>\n",
       "      <td>Prince</td>\n",
       "      <td>43730.0</td>\n",
       "      <td>1.0</td>\n",
       "      <td>2.28676</td>\n",
       "    </tr>\n",
       "    <tr>\n",
       "      <th>3</th>\n",
       "      <td>1201</td>\n",
       "      <td>Shelburne</td>\n",
       "      <td>13966.0</td>\n",
       "      <td>0.0</td>\n",
       "      <td>0.00000</td>\n",
       "    </tr>\n",
       "    <tr>\n",
       "      <th>4</th>\n",
       "      <td>1202</td>\n",
       "      <td>Yarmouth</td>\n",
       "      <td>24419.0</td>\n",
       "      <td>0.0</td>\n",
       "      <td>0.00000</td>\n",
       "    </tr>\n",
       "  </tbody>\n",
       "</table>\n",
       "</div>"
      ],
      "text/plain": [
       "   CDUID     CDNAME      pop  counts  popularity\n",
       "0   1101      Kings  17160.0     0.0     0.00000\n",
       "1   1102     Queens  82017.0     0.0     0.00000\n",
       "2   1103     Prince  43730.0     1.0     2.28676\n",
       "3   1201  Shelburne  13966.0     0.0     0.00000\n",
       "4   1202   Yarmouth  24419.0     0.0     0.00000"
      ]
     },
     "execution_count": 222,
     "metadata": {},
     "output_type": "execute_result"
    }
   ],
   "source": [
    "# turn NaN into 0\n",
    "dat['counts'] = dat['counts'].fillna(0)\n",
    "\n",
    "# calculate popularity: counts/pop\n",
    "dat['popularity'] = dat['counts']/dat['pop']*100000 #per 100,000 people\n",
    "\n",
    "dat[['CDUID', 'CDNAME', 'pop', 'counts', 'popularity']].head()"
   ]
  },
  {
   "cell_type": "markdown",
   "metadata": {},
   "source": [
    "**Examine outliers.**"
   ]
  },
  {
   "cell_type": "code",
   "execution_count": 223,
   "metadata": {},
   "outputs": [
    {
     "data": {
      "text/plain": [
       "<AxesSubplot:xlabel='counts'>"
      ]
     },
     "execution_count": 223,
     "metadata": {},
     "output_type": "execute_result"
    },
    {
     "data": {
      "image/png": "[encoded data removed]",
      "text/plain": [
       "<Figure size 432x288 with 1 Axes>"
      ]
     },
     "metadata": {
      "needs_background": "light"
     },
     "output_type": "display_data"
    }
   ],
   "source": [
    "import seaborn as sns\n",
    "sns.boxplot(x = dat['counts'])"
   ]
  },
  {
   "cell_type": "markdown",
   "metadata": {},
   "source": [
    "**It seems like a lot of census division has 0 requests. Since we want as much visual differentiation as possible, so we can get rid of the rows/CD now with 0 requests. It will show up on the final map as white background. If overlayed with a basemap, these CDs will be transparent.**"
   ]
  },
  {
   "cell_type": "code",
   "execution_count": 224,
   "metadata": {},
   "outputs": [],
   "source": [
    "dat = dat[dat.counts > 0]"
   ]
  },
  {
   "cell_type": "code",
   "execution_count": 225,
   "metadata": {},
   "outputs": [
    {
     "data": {
      "text/plain": [
       "<AxesSubplot:xlabel='popularity'>"
      ]
     },
     "execution_count": 225,
     "metadata": {},
     "output_type": "execute_result"
    },
    {
     "data": {
      "image/png": "[encoded data removed]",
      "text/plain": [
       "<Figure size 432x288 with 1 Axes>"
      ]
     },
     "metadata": {
      "needs_background": "light"
     },
     "output_type": "display_data"
    }
   ],
   "source": [
    "# examine popularity per 100,000 people\n",
    "sns.boxplot(x = dat['popularity'])"
   ]
  },
  {
   "cell_type": "code",
   "execution_count": 226,
   "metadata": {},
   "outputs": [
    {
     "data": {
      "text/html": [
       "<div>\n",
       "<style scoped>\n",
       "    .dataframe tbody tr th:only-of-type {\n",
       "        vertical-align: middle;\n",
       "    }\n",
       "\n",
       "    .dataframe tbody tr th {\n",
       "        vertical-align: top;\n",
       "    }\n",
       "\n",
       "    .dataframe thead th {\n",
       "        text-align: right;\n",
       "    }\n",
       "</style>\n",
       "<table border=\"1\" class=\"dataframe\">\n",
       "  <thead>\n",
       "    <tr style=\"text-align: right;\">\n",
       "      <th></th>\n",
       "      <th>counts</th>\n",
       "      <th>pop</th>\n",
       "      <th>popularity</th>\n",
       "    </tr>\n",
       "  </thead>\n",
       "  <tbody>\n",
       "    <tr>\n",
       "      <th>count</th>\n",
       "      <td>204.000000</td>\n",
       "      <td>2.040000e+02</td>\n",
       "      <td>204.000000</td>\n",
       "    </tr>\n",
       "    <tr>\n",
       "      <th>mean</th>\n",
       "      <td>97.823529</td>\n",
       "      <td>1.619157e+05</td>\n",
       "      <td>27.758398</td>\n",
       "    </tr>\n",
       "    <tr>\n",
       "      <th>std</th>\n",
       "      <td>404.177640</td>\n",
       "      <td>3.519166e+05</td>\n",
       "      <td>40.442639</td>\n",
       "    </tr>\n",
       "    <tr>\n",
       "      <th>min</th>\n",
       "      <td>1.000000</td>\n",
       "      <td>3.319000e+03</td>\n",
       "      <td>1.502630</td>\n",
       "    </tr>\n",
       "    <tr>\n",
       "      <th>25%</th>\n",
       "      <td>2.000000</td>\n",
       "      <td>3.134200e+04</td>\n",
       "      <td>6.453644</td>\n",
       "    </tr>\n",
       "    <tr>\n",
       "      <th>50%</th>\n",
       "      <td>7.500000</td>\n",
       "      <td>6.051900e+04</td>\n",
       "      <td>16.600729</td>\n",
       "    </tr>\n",
       "    <tr>\n",
       "      <th>75%</th>\n",
       "      <td>30.000000</td>\n",
       "      <td>1.213900e+05</td>\n",
       "      <td>30.293501</td>\n",
       "    </tr>\n",
       "    <tr>\n",
       "      <th>max</th>\n",
       "      <td>3885.000000</td>\n",
       "      <td>2.731571e+06</td>\n",
       "      <td>320.322214</td>\n",
       "    </tr>\n",
       "  </tbody>\n",
       "</table>\n",
       "</div>"
      ],
      "text/plain": [
       "            counts           pop  popularity\n",
       "count   204.000000  2.040000e+02  204.000000\n",
       "mean     97.823529  1.619157e+05   27.758398\n",
       "std     404.177640  3.519166e+05   40.442639\n",
       "min       1.000000  3.319000e+03    1.502630\n",
       "25%       2.000000  3.134200e+04    6.453644\n",
       "50%       7.500000  6.051900e+04   16.600729\n",
       "75%      30.000000  1.213900e+05   30.293501\n",
       "max    3885.000000  2.731571e+06  320.322214"
      ]
     },
     "execution_count": 226,
     "metadata": {},
     "output_type": "execute_result"
    }
   ],
   "source": [
    "dat[['counts', 'pop', 'popularity']].describe()"
   ]
  },
  {
   "cell_type": "markdown",
   "metadata": {},
   "source": [
    "### Mathematical Model Explanation and Outliers"
   ]
  },
  {
   "cell_type": "markdown",
   "metadata": {},
   "source": [
    "To normalize popularity to a scale from -10 to 10, I will use 20 divided by the range of popularity values to generate a temporary range from 0-20. Then, I will create a new column with everything 10 point less than the previous column as the final score. "
   ]
  },
  {
   "cell_type": "markdown",
   "metadata": {},
   "source": [
    "In an effort to 'be more sensitive around the average and give as much visual differentiability as possible', outliers as shown in boxplot above will be assigned a score of 20. Simlar to method above, I will then divide 19 by the range of the new range of popularity values (who are not an outlier). From this, a score of 1-19 will be generated. Subtract 10 from every value will generate -10 to 10 range. "
   ]
  },
  {
   "cell_type": "code",
   "execution_count": 244,
   "metadata": {},
   "outputs": [
    {
     "name": "stderr",
     "output_type": "stream",
     "text": [
      "/Users/maggiema/opt/anaconda3/lib/python3.8/site-packages/geopandas/geodataframe.py:1322: SettingWithCopyWarning: \n",
      "A value is trying to be set on a copy of a slice from a DataFrame.\n",
      "Try using .loc[row_indexer,col_indexer] = value instead\n",
      "\n",
      "See the caveats in the documentation: https://pandas.pydata.org/pandas-docs/stable/user_guide/indexing.html#returning-a-view-versus-a-copy\n",
      "  super(GeoDataFrame, self).__setitem__(key, value)\n",
      "/Users/maggiema/opt/anaconda3/lib/python3.8/site-packages/pandas/core/indexing.py:1765: SettingWithCopyWarning: \n",
      "A value is trying to be set on a copy of a slice from a DataFrame.\n",
      "Try using .loc[row_indexer,col_indexer] = value instead\n",
      "\n",
      "See the caveats in the documentation: https://pandas.pydata.org/pandas-docs/stable/user_guide/indexing.html#returning-a-view-versus-a-copy\n",
      "  isetter(loc, value)\n",
      "/Users/maggiema/opt/anaconda3/lib/python3.8/site-packages/geopandas/geodataframe.py:1322: SettingWithCopyWarning: \n",
      "A value is trying to be set on a copy of a slice from a DataFrame.\n",
      "Try using .loc[row_indexer,col_indexer] = value instead\n",
      "\n",
      "See the caveats in the documentation: https://pandas.pydata.org/pandas-docs/stable/user_guide/indexing.html#returning-a-view-versus-a-copy\n",
      "  super(GeoDataFrame, self).__setitem__(key, value)\n"
     ]
    },
    {
     "data": {
      "text/plain": [
       "count    204.000000\n",
       "mean      -3.208624\n",
       "std        5.932240\n",
       "min       -9.540872\n",
       "25%       -8.028089\n",
       "50%       -4.927647\n",
       "75%       -0.743820\n",
       "max       10.000000\n",
       "Name: score_adj, dtype: float64"
      ]
     },
     "execution_count": 244,
     "metadata": {},
     "output_type": "execute_result"
    }
   ],
   "source": [
    "# calculate outlier threashold\n",
    "outlier = np.percentile(dat['popularity'],75) + 1.5*(np.percentile(dat['popularity'],75) - np.percentile(dat['popularity'],25)) #Q3 + 1.5*IQR\n",
    "\n",
    "# subset non outliers\n",
    "non_outliers = dat.loc[dat['popularity'] <= outlier]\n",
    "\n",
    "# calculate score for non-outliers\n",
    "ratio = 19/(non_outliers['popularity'].max() - non_outliers['popularity'].min())\n",
    "dat['score'] = dat['popularity']*ratio\n",
    "\n",
    "# assign score 20 to outliers\n",
    "dat.loc[dat.popularity > outlier, 'score'] = 20\n",
    "\n",
    "# adjust to -10 to 10 scale\n",
    "dat['score_adj'] = dat['score'] - 10\n",
    "\n",
    "dat['score_adj'].describe()"
   ]
  },
  {
   "cell_type": "markdown",
   "metadata": {},
   "source": [
    "**And Voila! Here is the final map!**"
   ]
  },
  {
   "cell_type": "code",
   "execution_count": 249,
   "metadata": {},
   "outputs": [
    {
     "data": {
      "text/plain": [
       "<AxesSubplot:>"
      ]
     },
     "execution_count": 249,
     "metadata": {},
     "output_type": "execute_result"
    },
    {
     "data": {
      "image/png": "[encoded data removed]",
      "text/plain": [
       "<Figure size 432x288 with 2 Axes>"
      ]
     },
     "metadata": {
      "needs_background": "light"
     },
     "output_type": "display_data"
    }
   ],
   "source": [
    "polygon = dat.plot(column = 'score_adj', cmap = 'OrRd', legend = True)\n",
    "gdf.plot(ax = polygon, column = 'POIID', markersize = 1, alpha = 0.5, legend = True)"
   ]
  },
  {
   "cell_type": "markdown",
   "metadata": {},
   "source": [
    "* Popularity is measured in number of requests per 100,000 people on census division level.\n",
    "* 0 popularity is not depicted on map for representing maximum level of differntiability. \n",
    "* Census divisions with a large number of requests per population was considered an outlier. They were assigned a score of 10 and these areas can be viewed below:  "
   ]
  },
  {
   "cell_type": "code",
   "execution_count": 259,
   "metadata": {},
   "outputs": [
    {
     "data": {
      "text/html": [
       "<div>\n",
       "<style scoped>\n",
       "    .dataframe tbody tr th:only-of-type {\n",
       "        vertical-align: middle;\n",
       "    }\n",
       "\n",
       "    .dataframe tbody tr th {\n",
       "        vertical-align: top;\n",
       "    }\n",
       "\n",
       "    .dataframe thead th {\n",
       "        text-align: right;\n",
       "    }\n",
       "</style>\n",
       "<table border=\"1\" class=\"dataframe\">\n",
       "  <thead>\n",
       "    <tr style=\"text-align: right;\">\n",
       "      <th></th>\n",
       "      <th>CDUID</th>\n",
       "      <th>CDNAME</th>\n",
       "      <th>geometry</th>\n",
       "      <th>counts</th>\n",
       "      <th>pop</th>\n",
       "      <th>popularity</th>\n",
       "      <th>score</th>\n",
       "      <th>score_adj</th>\n",
       "    </tr>\n",
       "  </thead>\n",
       "  <tbody>\n",
       "    <tr>\n",
       "      <th>75</th>\n",
       "      <td>1307</td>\n",
       "      <td>Westmorland</td>\n",
       "      <td>POLYGON ((-63.87793 46.05102, -63.89025 46.048...</td>\n",
       "      <td>130.0</td>\n",
       "      <td>149623.0</td>\n",
       "      <td>86.885038</td>\n",
       "      <td>20.0</td>\n",
       "      <td>10.0</td>\n",
       "    </tr>\n",
       "    <tr>\n",
       "      <th>92</th>\n",
       "      <td>4711</td>\n",
       "      <td>Division No. 11</td>\n",
       "      <td>MULTIPOLYGON (((-107.11466 52.39007, -107.1120...</td>\n",
       "      <td>567.0</td>\n",
       "      <td>303423.0</td>\n",
       "      <td>186.867838</td>\n",
       "      <td>20.0</td>\n",
       "      <td>10.0</td>\n",
       "    </tr>\n",
       "    <tr>\n",
       "      <th>105</th>\n",
       "      <td>4806</td>\n",
       "      <td>Division No.  6</td>\n",
       "      <td>POLYGON ((-114.97013 51.88941, -114.95333 51.8...</td>\n",
       "      <td>3885.0</td>\n",
       "      <td>1498778.0</td>\n",
       "      <td>259.211171</td>\n",
       "      <td>20.0</td>\n",
       "      <td>10.0</td>\n",
       "    </tr>\n",
       "    <tr>\n",
       "      <th>107</th>\n",
       "      <td>4808</td>\n",
       "      <td>Division No.  8</td>\n",
       "      <td>POLYGON ((-114.53099 52.88737, -114.52920 52.8...</td>\n",
       "      <td>396.0</td>\n",
       "      <td>209395.0</td>\n",
       "      <td>189.116264</td>\n",
       "      <td>20.0</td>\n",
       "      <td>10.0</td>\n",
       "    </tr>\n",
       "    <tr>\n",
       "      <th>108</th>\n",
       "      <td>4809</td>\n",
       "      <td>Division No.  9</td>\n",
       "      <td>POLYGON ((-116.27615 52.84372, -116.13398 52.8...</td>\n",
       "      <td>22.0</td>\n",
       "      <td>20869.0</td>\n",
       "      <td>105.419522</td>\n",
       "      <td>20.0</td>\n",
       "      <td>10.0</td>\n",
       "    </tr>\n",
       "    <tr>\n",
       "      <th>110</th>\n",
       "      <td>4811</td>\n",
       "      <td>Division No. 11</td>\n",
       "      <td>POLYGON ((-113.69397 53.99268, -113.66971 53.9...</td>\n",
       "      <td>2891.0</td>\n",
       "      <td>1366050.0</td>\n",
       "      <td>211.632078</td>\n",
       "      <td>20.0</td>\n",
       "      <td>10.0</td>\n",
       "    </tr>\n",
       "    <tr>\n",
       "      <th>168</th>\n",
       "      <td>3510</td>\n",
       "      <td>Frontenac</td>\n",
       "      <td>POLYGON ((-76.79163 45.18224, -76.78662 45.171...</td>\n",
       "      <td>146.0</td>\n",
       "      <td>150475.0</td>\n",
       "      <td>97.026084</td>\n",
       "      <td>20.0</td>\n",
       "      <td>10.0</td>\n",
       "    </tr>\n",
       "    <tr>\n",
       "      <th>176</th>\n",
       "      <td>3519</td>\n",
       "      <td>York</td>\n",
       "      <td>POLYGON ((-79.25061 44.45319, -79.25070 44.453...</td>\n",
       "      <td>755.0</td>\n",
       "      <td>1109909.0</td>\n",
       "      <td>68.023595</td>\n",
       "      <td>20.0</td>\n",
       "      <td>10.0</td>\n",
       "    </tr>\n",
       "    <tr>\n",
       "      <th>177</th>\n",
       "      <td>3520</td>\n",
       "      <td>Toronto</td>\n",
       "      <td>POLYGON ((-79.15202 43.81439, -79.15191 43.814...</td>\n",
       "      <td>2719.0</td>\n",
       "      <td>2731571.0</td>\n",
       "      <td>99.539789</td>\n",
       "      <td>20.0</td>\n",
       "      <td>10.0</td>\n",
       "    </tr>\n",
       "    <tr>\n",
       "      <th>178</th>\n",
       "      <td>3521</td>\n",
       "      <td>Peel</td>\n",
       "      <td>POLYGON ((-79.70463 43.86366, -79.70338 43.861...</td>\n",
       "      <td>1039.0</td>\n",
       "      <td>1381739.0</td>\n",
       "      <td>75.195098</td>\n",
       "      <td>20.0</td>\n",
       "      <td>10.0</td>\n",
       "    </tr>\n",
       "    <tr>\n",
       "      <th>181</th>\n",
       "      <td>3524</td>\n",
       "      <td>Halton</td>\n",
       "      <td>POLYGON ((-79.95077 43.72091, -79.95070 43.720...</td>\n",
       "      <td>497.0</td>\n",
       "      <td>548435.0</td>\n",
       "      <td>90.621496</td>\n",
       "      <td>20.0</td>\n",
       "      <td>10.0</td>\n",
       "    </tr>\n",
       "    <tr>\n",
       "      <th>185</th>\n",
       "      <td>3529</td>\n",
       "      <td>Brant</td>\n",
       "      <td>POLYGON ((-80.23104 43.28741, -80.22765 43.278...</td>\n",
       "      <td>119.0</td>\n",
       "      <td>134808.0</td>\n",
       "      <td>88.273693</td>\n",
       "      <td>20.0</td>\n",
       "      <td>10.0</td>\n",
       "    </tr>\n",
       "    <tr>\n",
       "      <th>186</th>\n",
       "      <td>3530</td>\n",
       "      <td>Waterloo</td>\n",
       "      <td>POLYGON ((-80.40934 43.58290, -80.40537 43.580...</td>\n",
       "      <td>374.0</td>\n",
       "      <td>535154.0</td>\n",
       "      <td>69.886425</td>\n",
       "      <td>20.0</td>\n",
       "      <td>10.0</td>\n",
       "    </tr>\n",
       "    <tr>\n",
       "      <th>197</th>\n",
       "      <td>3543</td>\n",
       "      <td>Simcoe</td>\n",
       "      <td>POLYGON ((-79.62742 44.89557, -79.62526 44.894...</td>\n",
       "      <td>318.0</td>\n",
       "      <td>479650.0</td>\n",
       "      <td>66.298343</td>\n",
       "      <td>20.0</td>\n",
       "      <td>10.0</td>\n",
       "    </tr>\n",
       "    <tr>\n",
       "      <th>209</th>\n",
       "      <td>3558</td>\n",
       "      <td>Thunder Bay</td>\n",
       "      <td>POLYGON ((-86.54802 51.37667, -86.54807 51.284...</td>\n",
       "      <td>180.0</td>\n",
       "      <td>146048.0</td>\n",
       "      <td>123.247152</td>\n",
       "      <td>20.0</td>\n",
       "      <td>10.0</td>\n",
       "    </tr>\n",
       "    <tr>\n",
       "      <th>249</th>\n",
       "      <td>4815</td>\n",
       "      <td>Division No. 15</td>\n",
       "      <td>POLYGON ((-119.43828 53.47241, -119.42069 53.4...</td>\n",
       "      <td>40.0</td>\n",
       "      <td>38594.0</td>\n",
       "      <td>103.643053</td>\n",
       "      <td>20.0</td>\n",
       "      <td>10.0</td>\n",
       "    </tr>\n",
       "    <tr>\n",
       "      <th>250</th>\n",
       "      <td>4816</td>\n",
       "      <td>Division No. 16</td>\n",
       "      <td>POLYGON ((-110.00000 59.95257, -110.00000 59.9...</td>\n",
       "      <td>237.0</td>\n",
       "      <td>73988.0</td>\n",
       "      <td>320.322214</td>\n",
       "      <td>20.0</td>\n",
       "      <td>10.0</td>\n",
       "    </tr>\n",
       "  </tbody>\n",
       "</table>\n",
       "</div>"
      ],
      "text/plain": [
       "     CDUID           CDNAME  \\\n",
       "75    1307      Westmorland   \n",
       "92    4711  Division No. 11   \n",
       "105   4806  Division No.  6   \n",
       "107   4808  Division No.  8   \n",
       "108   4809  Division No.  9   \n",
       "110   4811  Division No. 11   \n",
       "168   3510        Frontenac   \n",
       "176   3519             York   \n",
       "177   3520          Toronto   \n",
       "178   3521             Peel   \n",
       "181   3524           Halton   \n",
       "185   3529            Brant   \n",
       "186   3530         Waterloo   \n",
       "197   3543           Simcoe   \n",
       "209   3558      Thunder Bay   \n",
       "249   4815  Division No. 15   \n",
       "250   4816  Division No. 16   \n",
       "\n",
       "                                              geometry  counts        pop  \\\n",
       "75   POLYGON ((-63.87793 46.05102, -63.89025 46.048...   130.0   149623.0   \n",
       "92   MULTIPOLYGON (((-107.11466 52.39007, -107.1120...   567.0   303423.0   \n",
       "105  POLYGON ((-114.97013 51.88941, -114.95333 51.8...  3885.0  1498778.0   \n",
       "107  POLYGON ((-114.53099 52.88737, -114.52920 52.8...   396.0   209395.0   \n",
       "108  POLYGON ((-116.27615 52.84372, -116.13398 52.8...    22.0    20869.0   \n",
       "110  POLYGON ((-113.69397 53.99268, -113.66971 53.9...  2891.0  1366050.0   \n",
       "168  POLYGON ((-76.79163 45.18224, -76.78662 45.171...   146.0   150475.0   \n",
       "176  POLYGON ((-79.25061 44.45319, -79.25070 44.453...   755.0  1109909.0   \n",
       "177  POLYGON ((-79.15202 43.81439, -79.15191 43.814...  2719.0  2731571.0   \n",
       "178  POLYGON ((-79.70463 43.86366, -79.70338 43.861...  1039.0  1381739.0   \n",
       "181  POLYGON ((-79.95077 43.72091, -79.95070 43.720...   497.0   548435.0   \n",
       "185  POLYGON ((-80.23104 43.28741, -80.22765 43.278...   119.0   134808.0   \n",
       "186  POLYGON ((-80.40934 43.58290, -80.40537 43.580...   374.0   535154.0   \n",
       "197  POLYGON ((-79.62742 44.89557, -79.62526 44.894...   318.0   479650.0   \n",
       "209  POLYGON ((-86.54802 51.37667, -86.54807 51.284...   180.0   146048.0   \n",
       "249  POLYGON ((-119.43828 53.47241, -119.42069 53.4...    40.0    38594.0   \n",
       "250  POLYGON ((-110.00000 59.95257, -110.00000 59.9...   237.0    73988.0   \n",
       "\n",
       "     popularity  score  score_adj  \n",
       "75    86.885038   20.0       10.0  \n",
       "92   186.867838   20.0       10.0  \n",
       "105  259.211171   20.0       10.0  \n",
       "107  189.116264   20.0       10.0  \n",
       "108  105.419522   20.0       10.0  \n",
       "110  211.632078   20.0       10.0  \n",
       "168   97.026084   20.0       10.0  \n",
       "176   68.023595   20.0       10.0  \n",
       "177   99.539789   20.0       10.0  \n",
       "178   75.195098   20.0       10.0  \n",
       "181   90.621496   20.0       10.0  \n",
       "185   88.273693   20.0       10.0  \n",
       "186   69.886425   20.0       10.0  \n",
       "197   66.298343   20.0       10.0  \n",
       "209  123.247152   20.0       10.0  \n",
       "249  103.643053   20.0       10.0  \n",
       "250  320.322214   20.0       10.0  "
      ]
     },
     "execution_count": 259,
     "metadata": {},
     "output_type": "execute_result"
    }
   ],
   "source": [
    "dat[dat['score_adj'] == 10] "
   ]
  }
 ],
 "metadata": {
  "kernelspec": {
   "display_name": "Python 3",
   "language": "python",
   "name": "python3"
  },
  "language_info": {
   "codemirror_mode": {
    "name": "ipython",
    "version": 3
   },
   "file_extension": ".py",
   "mimetype": "text/x-python",
   "name": "python",
   "nbconvert_exporter": "python",
   "pygments_lexer": "ipython3",
   "version": "3.8.5"
  }
 },
 "nbformat": 4,
 "nbformat_minor": 4
}
